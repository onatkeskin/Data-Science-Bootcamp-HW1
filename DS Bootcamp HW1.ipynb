{
 "cells": [
  {
   "cell_type": "code",
   "execution_count": 17,
   "id": "4a6995db",
   "metadata": {},
   "outputs": [
    {
     "name": "stdout",
     "output_type": "stream",
     "text": [
      "[1, 1, 2, 3, 5, 8, 13, 21, 34, 55]\n"
     ]
    }
   ],
   "source": [
    "# Question 1\n",
    "\n",
    "fibonacci_list = [1,1]\n",
    "x = 0\n",
    "while len(fibonacci_list) < 10:\n",
    "    x = fibonacci_list[-1] + fibonacci_list[-2]\n",
    "    fibonacci_list.append(x)\n",
    "\n",
    "print (fibonacci_list)"
   ]
  },
  {
   "cell_type": "code",
   "execution_count": 19,
   "id": "e6ed614b",
   "metadata": {},
   "outputs": [
    {
     "name": "stdout",
     "output_type": "stream",
     "text": [
      "[1, 3, 5, 7, 9, 11, 13, 15, 17, 19, 21, 23, 25, 27, 29, 31, 33, 35, 37, 39, 41, 43, 45, 47, 49, 51, 53, 55, 57, 59, 61, 63, 65, 67, 69, 71, 73, 75, 77, 79, 81, 83, 85, 87, 89, 91, 93, 95, 97, 99]\n"
     ]
    }
   ],
   "source": [
    "# Question 2\n",
    "\n",
    "random_list =[]\n",
    "x = 0\n",
    "\n",
    "for i in range(0,100):\n",
    "    random_list.append(x)\n",
    "    x+=1\n",
    "    \n",
    "print(random_list[1::2])\n"
   ]
  },
  {
   "cell_type": "code",
   "execution_count": 23,
   "id": "b2f8e230",
   "metadata": {},
   "outputs": [
    {
     "name": "stdout",
     "output_type": "stream",
     "text": [
      "[99, 98, 97, 96, 95, 94, 93, 92, 91, 90, 89, 88, 87, 86, 85, 84, 83, 82, 81, 80, 79, 78, 77, 76, 75, 74, 73, 72, 71, 70, 69, 68, 67, 66, 65, 64, 63, 62, 61, 60, 59, 58, 57, 56, 55, 54, 53, 52, 51, 50, 49, 48, 47, 46, 45, 44, 43, 42, 41, 40, 39, 38, 37, 36, 35, 34, 33, 32, 31, 30, 29, 28, 27, 26, 25, 24, 23, 22, 21, 20, 19, 18, 17, 16, 15, 14, 13, 12, 11, 10, 9, 8, 7, 6, 5, 4, 3, 2, 1, 0]\n"
     ]
    }
   ],
   "source": [
    "# Question 3\n",
    "\n",
    "random_list =[]\n",
    "x = 0\n",
    "\n",
    "for i in range(0,100):\n",
    "    random_list.append(x)\n",
    "    x+=1\n",
    "    \n",
    "print(random_list[::-1])\n"
   ]
  },
  {
   "cell_type": "code",
   "execution_count": 27,
   "id": "165c89a9",
   "metadata": {},
   "outputs": [
    {
     "name": "stdout",
     "output_type": "stream",
     "text": [
      "['\\n', '\\t', 'C', 'h', 'a', 't', 'G', 'P', 'T', ' ', 's', 'c', 'r', 'e', 'd', 'i', 'x', 'o', 'p', 'v', 'n', 'g', '.', 'F', ',', 'w', 'l', 'u', 'm', 'f', 'V', 'y', 'k', 'z', 'R', 'b', '!']\n"
     ]
    }
   ],
   "source": [
    "string = \"\"\"\n",
    "\tChatGPT has created this text to provide tips on creating interesting paragraphs. \n",
    "\tFirst, start with a clear topic sentence that introduces the main idea. \n",
    "\tThen, support the topic sentence with specific details, examples, and evidence.\n",
    "\tVary the sentence length and structure to keep the reader engaged.\n",
    "\tFinally, end with a strong concluding sentence that summarizes the main points.\n",
    "\tRemember, practice makes perfect!\n",
    "\t\"\"\"\n",
    "\n",
    "different_words_list = []\n",
    "x= 0\n",
    "\n",
    "for i in range(0,len(string)):\n",
    "    if string[x] not in different_words_list:\n",
    "        different_words_list.append(string[x])\n",
    "    x+=1\n",
    "\n",
    "\n",
    "print(different_words_list)"
   ]
  },
  {
   "cell_type": "code",
   "execution_count": null,
   "id": "d432c648",
   "metadata": {},
   "outputs": [],
   "source": []
  },
  {
   "cell_type": "code",
   "execution_count": null,
   "id": "24ee1115",
   "metadata": {},
   "outputs": [],
   "source": []
  }
 ],
 "metadata": {
  "kernelspec": {
   "display_name": "Python 3 (ipykernel)",
   "language": "python",
   "name": "python3"
  },
  "language_info": {
   "codemirror_mode": {
    "name": "ipython",
    "version": 3
   },
   "file_extension": ".py",
   "mimetype": "text/x-python",
   "name": "python",
   "nbconvert_exporter": "python",
   "pygments_lexer": "ipython3",
   "version": "3.11.4"
  }
 },
 "nbformat": 4,
 "nbformat_minor": 5
}
